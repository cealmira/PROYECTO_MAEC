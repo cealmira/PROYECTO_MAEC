{
 "cells": [
  {
   "cell_type": "code",
   "execution_count": 1,
   "id": "d8db1227-3960-426b-aa91-ef36c57b9a96",
   "metadata": {},
   "outputs": [],
   "source": [
    "# https://docs.python.org/es/3/library/sqlite3.html"
   ]
  },
  {
   "cell_type": "code",
   "execution_count": 39,
   "id": "614e8e00-ff9d-4436-b4d9-f99083f85ce1",
   "metadata": {},
   "outputs": [],
   "source": [
    "import sqlite3\n",
    "import pandas as pd\n",
    "con = sqlite3.connect('enoe.db')\n",
    "cur = con.cursor()"
   ]
  },
  {
   "cell_type": "code",
   "execution_count": 17,
   "id": "82346a29-e016-4c31-a3e3-678ebea39c20",
   "metadata": {},
   "outputs": [],
   "source": [
    "def get_var(x):\n",
    "    if isinstance(x, str):\n",
    "        if x.strip() == '':\n",
    "            return None\n",
    "        else:\n",
    "            try:\n",
    "                x = float(x)\n",
    "            except:\n",
    "                return x\n",
    "                #print(\"Non numeric: \", x)\n",
    "            return x\n",
    "    return x\n",
    "\n",
    "def query_maker(table, names):\n",
    "    colums = ','.join(tuple(names))\n",
    "    params = ','.join(tuple(['?' for i in range(len(names))]))\n",
    "    query = f'INSERT INTO {table}({colums}) VALUES ({params})'\n",
    "    return query"
   ]
  },
  {
   "cell_type": "code",
   "execution_count": 4,
   "id": "7256a125-91de-4372-a7d0-6ed88d9a5220",
   "metadata": {},
   "outputs": [
    {
     "data": {
      "text/plain": [
       "<sqlite3.Cursor at 0x229d3329b90>"
      ]
     },
     "execution_count": 4,
     "metadata": {},
     "output_type": "execute_result"
    }
   ],
   "source": [
    "cur.execute('''CREATE TABLE COE1(r_def int,cd_a int,ent int,con int,upm int,d_sem int,n_pro_viv int,v_sel int,n_hog int,\n",
    "    h_mud int,n_ent int,per int,n_ren int,eda int,n_inf int,p1 int,p1a1 int,p1a2 int,p1a3 int,p1b int,p1c int,p1d int,\n",
    "    p1e int,p2_1 int,p2_2 int,p2_3 int,p2_4 int,p2_9 int,p2a_dia int,p2a_sem int,p2a_mes int,p2a_anio int,p2b_dia int,\n",
    "    p2b_sem int,p2b_mes int,p2b_anio int,p2b int,p2c int,p2d1 int,p2d2 int,p2d3 int,p2d4 int,p2d5 int,p2d6 int,p2d7 int,\n",
    "    p2d8 int,p2d9 int,p2d10 int,p2d11 int,p2d99 int,p2e int,p2f int,p2g1 int,p2g2 int,p2h1 int,p2h2 int,p2h3 int,p2h4 int,\n",
    "    p2h9 int,p2i int,p2j int,p2k_anio int,p2k_mes int,p2k int,p3 int,p3a int,p3b int,p3c1 int,p3c2 int,p3c3 int,p3c4 int,\n",
    "    p3c9 int,p3d int,p3e int,p3f1 int,p3f2 int,p3g1_1 int,p3g1_2 int,p3g2_1 int,p3g2_2 int,p3g3_1 int,p3g3_2 int,\n",
    "    p3g4_1 int,p3g4_2 int,p3g9 int,p3g_tot int,p3h int,p3i int,p3j int,p3j1 int,p3j2 int,p3k1 int,p3k2 int,p3k3 int,\n",
    "    p3k4 int,p3k5 int,p3k9 int,p3l int,p3l1 int,p3l2 int,p3l3 int,p3l4 int,p3l5 int,p3l9 int,p3m1 int,p3m2 int,p3m3 int,\n",
    "    p3m4 int,p3m5 int,p3m6 int,p3m7 int,p3m8 int,p3m9 int,p3n int,p3o int,p3p1 int,p3p2 int,p3q int,p3r_anio int,\n",
    "    p3r_mes int,p3r int,p3s int,p3t_anio int,p3t_mes int,p4 int,p4_1 int,p4_2 int,p4_3 int,p4a int,p4a_1 int,p4b int,\n",
    "    p4c int,p4d1 int,p4d2 int,p4d3 int,p4e int,p4f int,p4g int,p4h int,p4i int,p4i_1 int,p5 int,p5a int,p5b int,\n",
    "    p5b_hlu int,p5b_mlu int,p5b_hma int,p5b_mma int,p5b_hmi int,p5b_mmi int,p5b_hju int,p5b_mju int,p5b_hvi int,\n",
    "    p5b_mvi int,p5b_hsa int,p5b_msa int,p5b_hdo int,p5b_mdo int,p5b_thrs int,p5b_tdia int,p5c int,p5c_hlu int,\n",
    "    p5c_mlu int,p5c_hma int,p5c_mma int,p5c_hmi int,p5c_mmi int,p5c_hju int,p5c_mju int,p5c_hvi int,p5c_mvi int,\n",
    "    p5c_hsa int,p5c_msa int,p5c_hdo int,p5c_mdo int,p5c_thrs int,p5c_tdia int,p5d int,p5d1 int,p5d_hlu int,\n",
    "    p5d_mlu int,p5d_hma int,p5d_mma int,p5d_hmi int,p5d_mmi int,p5d_hju int,p5d_mju int,p5d_hvi int,p5d_mvi int,\n",
    "    p5d_hsa int,p5d_msa int,p5d_hdo int,p5d_mdo int,p5d_thrs int,p5d_tdia int,p5e int,p5e1 int,p5e_hlu int,p5e_mlu int,\n",
    "    p5e_hma int,p5e_mma int,p5e_hmi int,p5e_mmi int,p5e_hju int,p5e_mju int,p5e_hvi int,p5e_mvi int,p5e_hsa int,\n",
    "    p5e_msa int,p5e_hdo int,p5e_mdo int,p5e_thrs int,p5e_tdia int,p5f int,p5f1 int,p5f2 int,p5f3 int,p5f4 int,p5f5 int,\n",
    "    p5f6 int,p5f7 int,p5f8 int,p5f9 int,p5f10 int,p5f11 int,p5f12 int,p5f13 int,p5f14 int,p5f15 int,p5f99 int,p5g1 int,\n",
    "    p5g2 int,p5g3 int,p5g4 int,p5g5 int,p5g6 int,p5g7 int,p5g8 int,p5g9 int,p5g10 int,p5g11 int,p5g12 int,p5g13 int,\n",
    "    p5g14 int,p5g15 int,p5g99 int,p5h int,ur int,tipo int,mes_cal int,fac_tri int,fac_men int,ca int,fac int)''')\n",
    "\n",
    "cur.execute('''CREATE TABLE COE2(cd_a int,ent int,con int,upm int,d_sem int,n_pro_viv int,v_sel int,n_hog int,h_mud int,\n",
    "    n_ent int,per int,n_ren int,eda int,n_inf int,p6_1 int,p6_2 int,p6_3 int,p6_4 int,p6_5 int,p6_6 int,p6_7 int,\n",
    "    p6_8 int,p6_9 int,p6_10 int,p6_99 int,p6a1 int,p6a2 int,p6a3 int,p6a4 int,p6a9 int,p6b1 int,p6b2 int,p6c int,p6d int,\n",
    "    p6e int,p6e_c int,p6f int,p6f_c int,p6g int,p6h int,p6h_c int,p6i int,p6i_c int,p7 int,p7a int,p7b int,p7c int,p7d int,\n",
    "    p7e int,p7f int,p7f_dias int,p7f_horas int,p7g1 int,p7g2 int,p7g3 int,p7g9 int,p7gcan int,p8_1 int,p8_2 int,p8_3 int,\n",
    "    p8_4 int,p8_9 int,p8a int,p8b int,p9 int,p9_1 int,p9_h1 int,p9_m1 int,p9_2 int,p9_h2 int,p9_m2 int,p9_3 int,p9_h3 int,\n",
    "    p9_m3 int,p9_4 int,p9_h4 int,p9_m4 int,p9_5 int,p9_h5 int,p9_m5 int,p9_6 int,p9_h6 int,p9_m6 int,p9_7 int,p9_h7 int,\n",
    "    p9_m7 int,p9_8 int,p9_h8 int,p9_m8 int,p9a int,p9b int,p9c int,p9d int,p9e int,p9f_anio int,p9f_mes int,p9f int,\n",
    "    p9g int,p9h int,p9h_1 int,p9i int,p9j int,p9k int,p9l1 int,p9l2 int,p9l3 int,p9l4 int,p9l5 int,p9l9 int,p9m1 int,\n",
    "    p9m2 int,p9m3 int,p9m9 int,p9mcan int,p9n1 int,p9n2 int,p9n3 int,p9n4 int,p9n5 int,p9n6 int,p9n9 int,p10_1 int,\n",
    "    p10_2 int,p10_3 int,p10_4 int,p10_9 int,p10a1 int,p10a2 int,p10a3 int,p10a4 int,p10a9 int,p10b int,p11_1 int,\n",
    "    p11_h1 int,p11_m1 int,p11_2 int,p11_h2 int,p11_m2 int,p11_3 int,p11_h3 int,p11_m3 int,p11_4 int,p11_h4 int,\n",
    "    p11_m4 int,p11_5 int,p11_h5 int,p11_m5 int,p11_6 int,p11_h6 int,p11_m6 int,p11_7 int,p11_h7 int,p11_m7 int,p11_8 int,\n",
    "    p11_h8 int,p11_m8 int,ur int,fac int,tipo int,mes_cal int,fac_tri int,fac_men int,ca int)''')\n",
    "\n",
    "cur.execute('''CREATE TABLE HOG(loc int,mun int,est int,est_d int,est_d_tri int,est_d_men int,ageb int,t_loc int,\n",
    "    t_loc_tri int,t_loc_men int,cd_a int,ent int,con int,upm int,d_sem int,n_pro_viv int,v_sel int,n_hog int,h_mud int,\n",
    "    n_ent int,per int,r_pre int,p_dia int,p_mes int,p_anio int,r_def int,d_dia int,d_mes int,d_anio int,e_obs int,\n",
    "    p4_1 int,p4_2 int,inf int,ur int,fac int,tipo int,mes_cal int,fac_tri int,fac_men int,ca int)''')\n",
    "\n",
    "cur.execute('''CREATE TABLE SDEM(r_def int,loc int,mun int,est int,est_d int,est_d_tri int,est_d_men int,ageb int,\n",
    "    t_loc int,t_loc_tri int,t_loc_men int,cd_a int,ent int,con int,upm int,d_sem int,n_pro_viv int,v_sel int,n_hog int,\n",
    "    h_mud int,n_ent int,per int,n_ren int,c_res int,par_c int,sex int,eda int,nac_dia int,nac_mes int,nac_anio int,\n",
    "    l_nac_c int,cs_p12 int,cs_p13_1 int,cs_p13_2 int,cs_p14_c int,cs_p15 int,cs_p16 int,cs_p17 int,n_hij int,e_con int,\n",
    "    cs_ad_mot int,cs_p20_des text,cs_p20a_1 int,cs_p20a_c int,cs_p20b_1 int,cs_p20b_c int,cs_p20c_1 int,\n",
    "    cs_p21_des text,cs_ad_des int,cs_nr_mot int,cs_p22_des text,cs_p23_des text,cs_nr_ori int,ur int,zona int,salario int,\n",
    "    fac int,fac_tri int,fac_men int,clase1 int,clase2 int,clase3 int,pos_ocu int,seg_soc int,rama int,c_ocu11c int,ing7c int,\n",
    "    dur9c int,emple7c int,medica5c int,buscar5c int,rama_est1 int,rama_est2 int,dur_est int,ambito1 int,ambito2 int,\n",
    "    tue1 int,tue2 int,tue3 int,busqueda int,d_ant_lab int,d_cexp_est int,dur_des int,sub_o int,s_clasifi int,\n",
    "    remune2c int,pre_asa int,tip_con int,dispo int,nodispo int,c_inac5c int,pnea_est int,niv_ins int,eda5c int,\n",
    "    eda7c int,eda12c int,eda19c int,hij5c int,domestico int,anios_esc int,hrsocup int,ingocup int,ing_x_hrs real,\n",
    "    tpg_p8a int,tcco int,cp_anoc int,imssissste int,ma48me1sm int,p14apoyos int,scian int,t_tra int,emp_ppal int,\n",
    "    tue_ppal int,trans_ppal int,mh_fil2 int,mh_col int,sec_ins int,tipo int,mes_cal int,ca int)''')\n",
    "\n",
    "cur.execute('''CREATE TABLE VIV(loc int,mun int,est int,est_d int,est_d_tri int,est_d_men int,ageb int,t_loc int,\n",
    "    t_loc_tri int,t_loc_men int,cd_a int,ent int,con int,upm int,d_sem int,n_pro_viv int,v_sel int,n_ent int,per int,\n",
    "    p1 int,p2 int,p3 int,ur int,fac int,tipo int,mes_cal int,fac_tri int,fac_men int,ca int)''')"
   ]
  },
  {
   "cell_type": "code",
   "execution_count": 27,
   "id": "0cc6d445-296b-4811-bf1c-6d8c2c1cdfdc",
   "metadata": {},
   "outputs": [],
   "source": [
    "#coe1 = pd.read_csv('ENOEN_COE1T421.csv')\n",
    "#coe1 = pd.read_csv('csv/117/coe1t117.CSV')\n",
    "coe1 = pd.read_csv('csv/320/ENOEN_COE1T320.csv')\n",
    "\n",
    "query_coe1 = query_maker('COE1', coe1.columns)\n",
    "\n",
    "for index, row in coe1.iterrows():\n",
    "    params = [get_var(i) for i in tuple(list(row))]\n",
    "    cur.execute(query_coe1, params)"
   ]
  },
  {
   "cell_type": "code",
   "execution_count": 29,
   "id": "ec7cbd9f-5685-436a-baa2-0f09a5671cd6",
   "metadata": {},
   "outputs": [],
   "source": [
    "#coe2 = pd.read_csv('ENOEN_COE2T421.csv')\n",
    "#coe2 = pd.read_csv('csv/320/ENOEN_COE2T320.csv')\n",
    "coe2 = pd.read_csv('csv/117/coe2t117.CSV')\n",
    "\n",
    "\n",
    "query_coe2 = query_maker('COE2', coe2.columns)\n",
    "\n",
    "for index, row in coe2.iterrows():\n",
    "    params = [get_var(i) for i in tuple(list(row))]\n",
    "    cur.execute(query_coe2, params)"
   ]
  },
  {
   "cell_type": "code",
   "execution_count": 41,
   "id": "13f82b4a-e7df-4275-a3aa-1c3751f7d827",
   "metadata": {},
   "outputs": [],
   "source": [
    "#hog = pd.read_csv('ENOEN_HOGT421.csv')\n",
    "#hog = pd.read_csv('csv/320/ENOEN_HOGT320.csv')\n",
    "hog = pd.read_csv('csv/117/hogt117.CSV')\n",
    "\n",
    "query_hog = query_maker('HOG', hog.columns)\n",
    "\n",
    "for index, row in hog.iterrows():\n",
    "    params = [get_var(i) for i in tuple(list(row))]\n",
    "    cur.execute(query_hog, params)"
   ]
  },
  {
   "cell_type": "code",
   "execution_count": 35,
   "id": "a766569c-9f44-46c9-9d65-e2ae7c391e76",
   "metadata": {},
   "outputs": [
    {
     "name": "stderr",
     "output_type": "stream",
     "text": [
      "C:\\Users\\cesar.miramontes\\Anaconda3\\lib\\site-packages\\IPython\\core\\interactiveshell.py:3444: DtypeWarning: Columns (21,37,40) have mixed types.Specify dtype option on import or set low_memory=False.\n",
      "  exec(code_obj, self.user_global_ns, self.user_ns)\n"
     ]
    }
   ],
   "source": [
    "#sdem = pd.read_csv('ENOEN_SDEMT421.csv', encoding='latin-1')\n",
    "#sdem = pd.read_csv('csv/320/ENOEN_SDEMT320.csv')\n",
    "sdem = pd.read_csv('csv/117/sdemt117.CSV', encoding='latin-1')\n",
    "\n",
    "#cur.execute('''delete from SDEM''')\n",
    "\n",
    "query_sdem = query_maker('SDEM', sdem.columns)\n",
    "\n",
    "for index, row in sdem.iterrows():\n",
    "    params = [get_var(i) for i in tuple(list(row))]\n",
    "    cur.execute(query_sdem, params)"
   ]
  },
  {
   "cell_type": "code",
   "execution_count": 37,
   "id": "0ef21b04-9514-40ee-b624-4ebae02bb65a",
   "metadata": {},
   "outputs": [],
   "source": [
    "#viv = pd.read_csv('ENOEN_VIVT421.csv')\n",
    "#viv = pd.read_csv('csv/320/ENOEN_VIVT320.csv')\n",
    "viv = pd.read_csv('csv/117/vivt117.CSV')\n",
    "\n",
    "query_viv = query_maker('VIV', viv.columns)\n",
    "\n",
    "for index, row in viv.iterrows():\n",
    "    params = [get_var(i) for i in tuple(list(row))]\n",
    "    cur.execute(query_viv, params)"
   ]
  },
  {
   "cell_type": "code",
   "execution_count": 42,
   "id": "6e43fedd-e52f-4e1c-affe-e9a8a5a29d7e",
   "metadata": {},
   "outputs": [],
   "source": [
    "# Save (commit) the changes\n",
    "con.commit()\n",
    "\n",
    "# We can also close the connection if we are done with it.\n",
    "# Just be sure any changes have been committed or they will be lost.\n",
    "con.close()"
   ]
  },
  {
   "cell_type": "code",
   "execution_count": null,
   "id": "977a36b8-9130-444b-89cf-f03580e2f55f",
   "metadata": {},
   "outputs": [],
   "source": []
  }
 ],
 "metadata": {
  "kernelspec": {
   "display_name": "Python 3 (ipykernel)",
   "language": "python",
   "name": "python3"
  },
  "language_info": {
   "codemirror_mode": {
    "name": "ipython",
    "version": 3
   },
   "file_extension": ".py",
   "mimetype": "text/x-python",
   "name": "python",
   "nbconvert_exporter": "python",
   "pygments_lexer": "ipython3",
   "version": "3.9.7"
  }
 },
 "nbformat": 4,
 "nbformat_minor": 5
}
